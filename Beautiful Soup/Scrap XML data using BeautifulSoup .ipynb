{
 "cells": [
  {
   "cell_type": "code",
   "execution_count": 1,
   "id": "e78d9af4",
   "metadata": {},
   "outputs": [],
   "source": [
    "from bs4 import BeautifulSoup\n",
    "import requests"
   ]
  },
  {
   "cell_type": "code",
   "execution_count": 2,
   "id": "97f7f8e8",
   "metadata": {},
   "outputs": [],
   "source": [
    "url = \"https://www.w3schools.com/xml/note.xml\""
   ]
  },
  {
   "cell_type": "code",
   "execution_count": 3,
   "id": "c945e67e",
   "metadata": {},
   "outputs": [],
   "source": [
    "# get the data\n",
    "xml = requests.get(url)"
   ]
  },
  {
   "cell_type": "code",
   "execution_count": 4,
   "id": "04e8d111",
   "metadata": {},
   "outputs": [
    {
     "data": {
      "text/plain": [
       "b'<?xml version=\"1.0\" encoding=\"UTF-8\"?>\\n<note>\\n  <to>Tove</to>\\n  <from>Jani</from>\\n  <heading>Reminder</heading>\\n  <body>Don\\'t forget me this weekend!</body>\\n</note>'"
      ]
     },
     "execution_count": 4,
     "metadata": {},
     "output_type": "execute_result"
    }
   ],
   "source": [
    "xml.content"
   ]
  },
  {
   "cell_type": "code",
   "execution_count": 5,
   "id": "1ecbcc5f",
   "metadata": {},
   "outputs": [
    {
     "name": "stdout",
     "output_type": "stream",
     "text": [
      "<?xml version=\"1.0\" encoding=\"UTF-8\"?><html><body><note>\n",
      "<to>Tove</to>\n",
      "<from>Jani</from>\n",
      "<heading>Reminder</heading>\n",
      "  Don't forget me this weekend!\n",
      "</note></body></html>\n"
     ]
    }
   ],
   "source": [
    "# parse the data\n",
    "soup = BeautifulSoup(xml.content, 'lxml')\n",
    "print(soup)"
   ]
  },
  {
   "cell_type": "code",
   "execution_count": 6,
   "id": "a9574f5a",
   "metadata": {
    "scrolled": true
   },
   "outputs": [
    {
     "data": {
      "text/plain": [
       "<heading>Reminder</heading>"
      ]
     },
     "execution_count": 6,
     "metadata": {},
     "output_type": "execute_result"
    }
   ],
   "source": [
    "xml_tag = soup.find('heading')\n",
    "xml_tag"
   ]
  },
  {
   "cell_type": "code",
   "execution_count": 7,
   "id": "cf715997",
   "metadata": {},
   "outputs": [
    {
     "data": {
      "text/plain": [
       "'Reminder'"
      ]
     },
     "execution_count": 7,
     "metadata": {},
     "output_type": "execute_result"
    }
   ],
   "source": [
    "xml_tag.text"
   ]
  },
  {
   "cell_type": "code",
   "execution_count": 8,
   "id": "e7214fd6",
   "metadata": {},
   "outputs": [
    {
     "data": {
      "text/plain": [
       "<note>\n",
       "<to>Tove</to>\n",
       "<from>Jani</from>\n",
       "<heading>Reminder</heading>\n",
       "  Don't forget me this weekend!\n",
       "</note>"
      ]
     },
     "execution_count": 8,
     "metadata": {},
     "output_type": "execute_result"
    }
   ],
   "source": [
    "xml_tag = soup.find('note')\n",
    "xml_tag"
   ]
  },
  {
   "cell_type": "code",
   "execution_count": 9,
   "id": "a1900416",
   "metadata": {},
   "outputs": [
    {
     "name": "stdout",
     "output_type": "stream",
     "text": [
      "\n",
      "Tove\n",
      "Jani\n",
      "Reminder\n",
      "  Don't forget me this weekend!\n",
      "\n"
     ]
    }
   ],
   "source": [
    "print(xml_tag.text)"
   ]
  },
  {
   "cell_type": "code",
   "execution_count": null,
   "id": "caef6064",
   "metadata": {},
   "outputs": [],
   "source": []
  }
 ],
 "metadata": {
  "kernelspec": {
   "display_name": "Python 3 (ipykernel)",
   "language": "python",
   "name": "python3"
  },
  "language_info": {
   "codemirror_mode": {
    "name": "ipython",
    "version": 3
   },
   "file_extension": ".py",
   "mimetype": "text/x-python",
   "name": "python",
   "nbconvert_exporter": "python",
   "pygments_lexer": "ipython3",
   "version": "3.9.7"
  }
 },
 "nbformat": 4,
 "nbformat_minor": 5
}
