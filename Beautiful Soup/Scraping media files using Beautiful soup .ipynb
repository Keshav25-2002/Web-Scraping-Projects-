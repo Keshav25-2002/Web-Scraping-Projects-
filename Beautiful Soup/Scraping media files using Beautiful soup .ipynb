{
 "cells": [
  {
   "cell_type": "code",
   "execution_count": 1,
   "id": "dfc93244",
   "metadata": {},
   "outputs": [],
   "source": [
    "from bs4 import BeautifulSoup\n",
    "import requests"
   ]
  },
  {
   "cell_type": "code",
   "execution_count": 2,
   "id": "db888dfd",
   "metadata": {},
   "outputs": [],
   "source": [
    "url = 'https://www.thehindu.com/news/national/coronavirus-live-updates-may-29-2021/article34672944.ece?homepage=true'"
   ]
  },
  {
   "cell_type": "code",
   "execution_count": 3,
   "id": "68375218",
   "metadata": {},
   "outputs": [],
   "source": [
    "page = requests.get(url)"
   ]
  },
  {
   "cell_type": "code",
   "execution_count": 4,
   "id": "a8bc5a2c",
   "metadata": {},
   "outputs": [
    {
     "data": {
      "text/plain": [
       "<Response [200]>"
      ]
     },
     "execution_count": 4,
     "metadata": {},
     "output_type": "execute_result"
    }
   ],
   "source": [
    "page"
   ]
  },
  {
   "cell_type": "code",
   "execution_count": 5,
   "id": "ec7ad292",
   "metadata": {},
   "outputs": [],
   "source": [
    "# parse the data\n",
    "soup = BeautifulSoup(page.content, 'html.parser')\n",
    "# print(soup.prettify())"
   ]
  },
  {
   "cell_type": "code",
   "execution_count": 6,
   "id": "8c6e27c4",
   "metadata": {},
   "outputs": [
    {
     "data": {
      "text/plain": [
       "<source media=\"(min-width: 1600px)\" sizes=\"960px\" srcset=\"https://www.thehindu.com/news/national/2g2qwq/article53557510.ece/alternates/FREE_1200/Migrants2jpg\"/>"
      ]
     },
     "execution_count": 6,
     "metadata": {},
     "output_type": "execute_result"
    }
   ],
   "source": [
    "# find the image src link\n",
    "img_tag = soup.find('source')\n",
    "img_tag"
   ]
  },
  {
   "cell_type": "code",
   "execution_count": 7,
   "id": "8ef4319f",
   "metadata": {},
   "outputs": [
    {
     "data": {
      "text/plain": [
       "'https://www.thehindu.com/news/national/2g2qwq/article53557510.ece/alternates/FREE_1200/Migrants2jpg'"
      ]
     },
     "execution_count": 7,
     "metadata": {},
     "output_type": "execute_result"
    }
   ],
   "source": [
    "img_tag['srcset']"
   ]
  },
  {
   "cell_type": "code",
   "execution_count": 8,
   "id": "ce5b8fcc",
   "metadata": {},
   "outputs": [],
   "source": [
    "img_url = img_tag['srcset']"
   ]
  },
  {
   "cell_type": "code",
   "execution_count": 9,
   "id": "59c614f2",
   "metadata": {},
   "outputs": [],
   "source": [
    "image = requests.get(img_url)"
   ]
  },
  {
   "cell_type": "code",
   "execution_count": 10,
   "id": "cbee61cf",
   "metadata": {},
   "outputs": [],
   "source": [
    "# store the image in file\n",
    "with open('image.jpg', 'wb') as file:\n",
    "    for chunk in image.iter_content(chunk_size=1024):\n",
    "        file.write(chunk)\n"
   ]
  },
  {
   "cell_type": "code",
   "execution_count": 11,
   "id": "5d2602fa",
   "metadata": {},
   "outputs": [],
   "source": [
    "#Download PPT from URL\n",
    "ppt = requests.get('http://www.howtowebscrape.com/examples/media/images/SampleSlides.pptx')\n"
   ]
  },
  {
   "cell_type": "code",
   "execution_count": 12,
   "id": "f87f5109",
   "metadata": {},
   "outputs": [],
   "source": [
    "with open('sample.pptx', 'wb') as file:\n",
    "    for chunk in ppt.iter_content(chunk_size=1024):\n",
    "        file.write(chunk)"
   ]
  },
  {
   "cell_type": "code",
   "execution_count": 13,
   "id": "6bb6926b",
   "metadata": {},
   "outputs": [],
   "source": [
    "#Download Video from URL\n",
    "video = requests.get('http://www.howtowebscrape.com/examples/media/images/BigRabbit.mp4')"
   ]
  },
  {
   "cell_type": "code",
   "execution_count": 14,
   "id": "a466c5aa",
   "metadata": {},
   "outputs": [],
   "source": [
    "with open('BigRabbit.mp4', 'wb') as file:\n",
    "    for chunk in video.iter_content(chunk_size=1024):\n",
    "        file.write(chunk)"
   ]
  },
  {
   "cell_type": "code",
   "execution_count": null,
   "id": "8f334ae5",
   "metadata": {},
   "outputs": [],
   "source": []
  }
 ],
 "metadata": {
  "kernelspec": {
   "display_name": "Python 3 (ipykernel)",
   "language": "python",
   "name": "python3"
  },
  "language_info": {
   "codemirror_mode": {
    "name": "ipython",
    "version": 3
   },
   "file_extension": ".py",
   "mimetype": "text/x-python",
   "name": "python",
   "nbconvert_exporter": "python",
   "pygments_lexer": "ipython3",
   "version": "3.9.7"
  }
 },
 "nbformat": 4,
 "nbformat_minor": 5
}
